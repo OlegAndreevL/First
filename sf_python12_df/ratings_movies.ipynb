{
 "cells": [
  {
   "cell_type": "code",
   "execution_count": 87,
   "metadata": {},
   "outputs": [
    {
     "data": {
      "text/plain": [
       "year_rating\n",
       "1996    3.228571\n",
       "1997    3.409091\n",
       "1998    3.000000\n",
       "1999    3.606061\n",
       "2000    3.141291\n",
       "2001    3.318408\n",
       "2002    3.198556\n",
       "2003    3.120066\n",
       "2004    3.356877\n",
       "2005    2.963325\n",
       "2006    3.347534\n",
       "2007    2.928187\n",
       "2008    3.426667\n",
       "2009    3.273292\n",
       "2010    3.179825\n",
       "2011    3.232877\n",
       "2012    3.478477\n",
       "2013    3.489474\n",
       "2014    3.271429\n",
       "2015    3.106183\n",
       "2016    3.373431\n",
       "2017    2.852668\n",
       "2018    3.121296\n",
       "Name: Comedy, dtype: float64"
      ]
     },
     "metadata": {},
     "output_type": "display_data"
    }
   ],
   "source": [
    "import pandas as pd\n",
    "import re\n",
    "movies = pd.read_csv('data/ratings_movies.csv', sep=',')\n",
    "def get_year_release(arg):\n",
    "    candidates = re.findall(r'\\(\\d{4}\\)', arg) \n",
    "    if len(candidates) > 0:\n",
    "        year = candidates[0].replace('(', '')\n",
    "        year = year.replace(')', '')\n",
    "        return int(year)\n",
    "    else:\n",
    "        return None\n",
    "movies['year_release'] = movies['title'].apply(get_year_release)\n",
    "# display(movies['year_release'].info())\n",
    "mask1 = movies['year_release'] == 1999\n",
    "year1999 = movies[mask1]\n",
    "per = year1999.groupby(by='title').mean(numeric_only=True).sort_values(by='rating')\n",
    "mask2 = movies['year_release'] == 2010\n",
    "year2010 = movies[mask2].groupby(by='genres').mean(numeric_only=True).sort_values(by='rating')\n",
    "pop_user = movies.groupby(by='userId')['genres'].nunique().sort_values()\n",
    "min_user = movies.groupby(by='userId')['rating'].agg(['count', 'mean']).sort_values(by=['count', 'mean'], ascending = [True, False])\n",
    "mask3 = movies['year_release']==2018\n",
    "year2018 = movies[mask3].pivot_table(\n",
    "    values='rating',\n",
    "    index='genres',\n",
    "    aggfunc=['mean', 'count']\n",
    ")\n",
    "mask4 = year2018['count']['rating']>10\n",
    "filter_year = year2018[mask4]\n",
    "movies['year_rating'] = pd.to_datetime(movies['date']).dt.year\n",
    "zavis = movies.pivot_table(\n",
    "    values='rating',\n",
    "    index='year_rating',\n",
    "    columns='genres'\n",
    ")\n",
    "display(zavis['Comedy'])"
   ]
  }
 ],
 "metadata": {
  "kernelspec": {
   "display_name": "Python 3",
   "language": "python",
   "name": "python3"
  },
  "language_info": {
   "codemirror_mode": {
    "name": "ipython",
    "version": 3
   },
   "file_extension": ".py",
   "mimetype": "text/x-python",
   "name": "python",
   "nbconvert_exporter": "python",
   "pygments_lexer": "ipython3",
   "version": "3.11.9"
  }
 },
 "nbformat": 4,
 "nbformat_minor": 2
}
