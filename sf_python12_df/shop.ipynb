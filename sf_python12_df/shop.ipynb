{
 "cells": [
  {
   "cell_type": "code",
   "execution_count": null,
   "metadata": {},
   "outputs": [
    {
     "data": {
      "text/plain": [
       "ID Покупателя\n",
       "1      2240.0\n",
       "5     14042.0\n",
       "7     17096.0\n",
       "8      3087.0\n",
       "9      7040.0\n",
       "10      995.0\n",
       "Name: SummOrder, dtype: float64"
      ]
     },
     "metadata": {},
     "output_type": "display_data"
    }
   ],
   "source": [
    "import pandas as pd\n",
    "orders = pd.read_csv('shop/orders.csv', sep=';')\n",
    "products = pd.read_csv('shop/products.csv', sep=';')\n",
    "orders_products = orders.merge(\n",
    "    products,\n",
    "    how='left',\n",
    "    left_on='ID товара',\n",
    "    right_on='Product_ID'\n",
    ")\n",
    "# display(orders_products[orders_products['Name'].isna()])\n",
    "# display(orders_products[orders_products['Отменен']=='Да'])\n",
    "orders_products['SummOrder']=orders_products['Price']*orders_products['Количество']\n",
    "mask2 = orders_products['Оплачен']=='Да'\n",
    "# display(orders_products[mask2])\n",
    "prib = orders_products.groupby('ID Покупателя')['SummOrder'].sum()\n",
    "# display(prib)"
   ]
  }
 ],
 "metadata": {
  "kernelspec": {
   "display_name": "Python 3",
   "language": "python",
   "name": "python3"
  },
  "language_info": {
   "codemirror_mode": {
    "name": "ipython",
    "version": 3
   },
   "file_extension": ".py",
   "mimetype": "text/x-python",
   "name": "python",
   "nbconvert_exporter": "python",
   "pygments_lexer": "ipython3",
   "version": "3.11.9"
  }
 },
 "nbformat": 4,
 "nbformat_minor": 2
}
