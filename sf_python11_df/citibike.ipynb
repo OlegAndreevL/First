{
 "cells": [
  {
   "cell_type": "code",
   "execution_count": 46,
   "metadata": {},
   "outputs": [
    {
     "data": {
      "text/plain": [
       "time_of_day\n",
       "day        143012\n",
       "morning     95530\n",
       "evening     46373\n",
       "night       15085\n",
       "Name: count, dtype: int64"
      ]
     },
     "metadata": {},
     "output_type": "display_data"
    },
    {
     "data": {
      "text/plain": [
       "9.480411004308916"
      ]
     },
     "metadata": {},
     "output_type": "display_data"
    }
   ],
   "source": [
    "import pandas as pd\n",
    "citibike = pd.read_csv('data/citibike-tripdata.csv', sep=',')\n",
    "# display(citibike['end station name'].value_counts())\n",
    "citibike = citibike.drop(['start station id', 'end station id'], axis=1)\n",
    "# display(citibike.shape[1])\n",
    "citibike['age'] = 2018 - citibike['birth year']\n",
    "citibike = citibike.drop('birth year', axis=1)\n",
    "# display(citibike[citibike['age'] > 60].shape[0])\n",
    "citibike['starttime'] = pd.to_datetime(citibike['starttime'])\n",
    "citibike['stoptime'] = pd.to_datetime(citibike['stoptime'])\n",
    "citibike['trip duration'] = citibike['stoptime'] - citibike['starttime']\n",
    "citibike['days'] = citibike['starttime'].dt.dayofweek\n",
    "# display(citibike['days'].value_counts())\n",
    "def get_weekend(weekday):\n",
    "    if weekday == 5 or weekday == 6:\n",
    "        return 1\n",
    "    return 0\n",
    "citibike['weekend'] = citibike['days'].apply(get_weekend)\n",
    "hour = citibike['starttime'].dt.hour\n",
    "def time_day(hour_time):\n",
    "    if hour_time >= 0 and hour_time <= 6:\n",
    "        return 'night'\n",
    "    elif hour_time > 6 and hour_time <= 12:\n",
    "        return 'morning'\n",
    "    elif hour_time > 12 and hour_time <= 18:\n",
    "        return 'day'\n",
    "    elif hour_time > 18 and hour_time <= 23:\n",
    "        return 'evening'\n",
    "citibike['time_of_day'] = hour.apply(time_day)\n",
    "display(citibike['time_of_day'].value_counts())\n",
    "display(143012/15085)"
   ]
  }
 ],
 "metadata": {
  "kernelspec": {
   "display_name": "Python 3",
   "language": "python",
   "name": "python3"
  },
  "language_info": {
   "codemirror_mode": {
    "name": "ipython",
    "version": 3
   },
   "file_extension": ".py",
   "mimetype": "text/x-python",
   "name": "python",
   "nbconvert_exporter": "python",
   "pygments_lexer": "ipython3",
   "version": "3.11.9"
  }
 },
 "nbformat": 4,
 "nbformat_minor": 2
}
