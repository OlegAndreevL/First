{
 "cells": [
  {
   "cell_type": "code",
   "execution_count": null,
   "metadata": {},
   "outputs": [
    {
     "data": {
      "text/plain": [
       "np.float64(1.297709923664122)"
      ]
     },
     "metadata": {},
     "output_type": "display_data"
    }
   ],
   "source": [
    "import pandas as pd\n",
    "\n",
    "melb_data = pd.read_csv('data/melb_data_ps.csv', sep=',')\n",
    "melb_copy = melb_data.copy()\n",
    "# melb_copy.drop(labels=['index', 'Coordinates'], axis=1, inplace=True)\n",
    "# melb_copy.head(2)\n",
    "total_rooms = melb_copy['Bedroom'] + melb_copy['Bathroom'] + melb_copy['Rooms']\n",
    "melb_copy['MeanRoomsArea'] = melb_copy['BuildingArea'] / total_rooms\n",
    "# display(melb_copy['MeanRoomsArea'])\n",
    "melb_copy['Date'] = pd.to_datetime(melb_copy['Date'], dayfirst=True)\n",
    "melb_copy['MonthSale'] = melb_copy['Date'].dt.month\n",
    "# print(melb_copy['MonthSale'].max())\n",
    "# print(melb_copy['MonthSale'].mode()[0])\n",
    "# print(melb_copy['MonthSale'].value_counts(normalize=True))\n",
    "melb_copy['AgeBuilding'] = melb_copy['Date'].dt.year - melb_copy['YearBuilt']\n",
    "# print(melb_copy['AgeBuilding'])\n",
    "melb_copy = melb_copy.drop('YearBuilt', axis=1)\n",
    "melb_copy['WeekdaySale'] = melb_copy['Date'].dt.dayofweek\n",
    "# print(melb_copy['WeekdaySale'].value_counts())\n",
    "# weekend_count = 11759+1063\n",
    "# print(weekend_count)\n",
    "def street_type(address):\n",
    "    geo_type = ['S', 'W', 'N', 'E']\n",
    "    address_list = address.split(' ')\n",
    "    str_type = address_list[-1]\n",
    "    if str_type in geo_type:\n",
    "        str_type = address_list[-2]\n",
    "    return str_type\n",
    "street_types = melb_copy['Address'].apply(street_type)\n",
    "popular_stypes = street_types.value_counts().nlargest(10).index\n",
    "melb_copy['StreetType'] = street_types.apply(lambda x: x if x in popular_stypes else 'other')\n",
    "melb_copy = melb_copy.drop('Address', axis=1)\n",
    "def get_weekend(weekday):\n",
    "    if weekday == 5 or weekday == 6:\n",
    "        return 1\n",
    "    return 0\n",
    "melb_copy['Weekend'] = melb_copy['WeekdaySale'].apply(get_weekend)\n",
    "# price = melb_copy[melb_copy['Weekend']==1]\n",
    "# display(price['Price'].mean())\n",
    "popular_seller = melb_copy['SellerG'].value_counts().nlargest(49).index\n",
    "melb_copy['SellerG'] = melb_copy['SellerG'].apply(lambda x: x if x in popular_seller else 'other')\n",
    "nelson = melb_copy[melb_copy['SellerG']=='Nelson']['Price'].min()\n",
    "other_sel = melb_copy[melb_copy['SellerG']=='other']['Price'].min()\n",
    "# display(nelson/other_sel)"
   ]
  },
  {
   "cell_type": "code",
   "execution_count": 93,
   "metadata": {},
   "outputs": [
    {
     "name": "stdout",
     "output_type": "stream",
     "text": [
      "<class 'pandas.core.frame.DataFrame'>\n",
      "RangeIndex: 13580 entries, 0 to 13579\n",
      "Data columns (total 27 columns):\n",
      " #   Column         Non-Null Count  Dtype         \n",
      "---  ------         --------------  -----         \n",
      " 0   index          13580 non-null  int64         \n",
      " 1   Suburb         13580 non-null  category      \n",
      " 2   Rooms          13580 non-null  int64         \n",
      " 3   Type           0 non-null      category      \n",
      " 4   Price          13580 non-null  float64       \n",
      " 5   Method         13580 non-null  category      \n",
      " 6   SellerG        13580 non-null  category      \n",
      " 7   Date           13580 non-null  datetime64[ns]\n",
      " 8   Distance       13580 non-null  float64       \n",
      " 9   Postcode       13580 non-null  int64         \n",
      " 10  Bedroom        13580 non-null  int64         \n",
      " 11  Bathroom       13580 non-null  int64         \n",
      " 12  Car            13580 non-null  int64         \n",
      " 13  Landsize       13580 non-null  float64       \n",
      " 14  BuildingArea   13580 non-null  float64       \n",
      " 15  CouncilArea    12211 non-null  category      \n",
      " 16  Lattitude      13580 non-null  float64       \n",
      " 17  Longtitude     13580 non-null  float64       \n",
      " 18  Regionname     13580 non-null  category      \n",
      " 19  Propertycount  13580 non-null  int64         \n",
      " 20  Coordinates    13580 non-null  object        \n",
      " 21  MeanRoomsArea  13580 non-null  float64       \n",
      " 22  MonthSale      13580 non-null  category      \n",
      " 23  AgeBuilding    13580 non-null  int64         \n",
      " 24  WeekdaySale    13580 non-null  category      \n",
      " 25  StreetType     13580 non-null  category      \n",
      " 26  Weekend        13580 non-null  category      \n",
      "dtypes: category(10), datetime64[ns](1), float64(7), int64(8), object(1)\n",
      "memory usage: 1.9+ MB\n"
     ]
    },
    {
     "data": {
      "text/plain": [
       "None"
      ]
     },
     "metadata": {},
     "output_type": "display_data"
    }
   ],
   "source": [
    "import pandas as pd\n",
    "unique_list = []\n",
    "for col in melb_copy.columns:\n",
    "    item = (col, melb_copy[col].nunique(), melb_copy[col].dtypes)\n",
    "    unique_list.append(item)\n",
    "unique_counts = pd.DataFrame(\n",
    "    unique_list,\n",
    "    columns = ['Column Name', 'Num_Unique', 'Type']\n",
    ").sort_values(by='Num_Unique', ignore_index=True)\n",
    "# display(unique_counts)\n",
    "cols_to_exclude = ['Date', 'Rooms', 'Bedroom', 'Bathroom', 'Car']\n",
    "max_unique_count = 150\n",
    "for col in melb_copy.columns:\n",
    "    if melb_copy[col].nunique() < max_unique_count and col not in cols_to_exclude:\n",
    "        melb_copy[col] = melb_copy[col].astype('category')\n",
    "# display(melb_copy.info())\n",
    "# display(melb_copy['Regionname'].cat.categories)\n",
    "# melb_copy['Type'] = melb_copy['Type'].cat.remove_categories({\n",
    "#     't': 'townhouse',\n",
    "#     'u': 'unit',\n",
    "#     'h': 'house'\n",
    "# })\n",
    "popular_suburb = melb_copy['Suburb'].value_counts().nlargest(119).index\n",
    "melb_copy['Suburb'] = melb_copy['Suburb'].apply(lambda x: x if x in popular_suburb else 'other')\n",
    "melb_copy['Suburb'] = melb_copy['Suburb'].astype('category')\n",
    "display(melb_copy.info())\n"
   ]
  }
 ],
 "metadata": {
  "kernelspec": {
   "display_name": "Python 3",
   "language": "python",
   "name": "python3"
  },
  "language_info": {
   "codemirror_mode": {
    "name": "ipython",
    "version": 3
   },
   "file_extension": ".py",
   "mimetype": "text/x-python",
   "name": "python",
   "nbconvert_exporter": "python",
   "pygments_lexer": "ipython3",
   "version": "3.11.9"
  }
 },
 "nbformat": 4,
 "nbformat_minor": 2
}
